{
 "cells": [
  {
   "cell_type": "code",
   "execution_count": 1,
   "metadata": {},
   "outputs": [],
   "source": [
    "import os ,sys,platform,time,threading,multiprocessing"
   ]
  },
  {
   "cell_type": "code",
   "execution_count": 2,
   "metadata": {},
   "outputs": [
    {
     "data": {
      "text/plain": [
       "array([[ 3, 78, 13, ..., 27, 89, 33],\n",
       "       [75, 81, 46, ..., 82, 42, 32],\n",
       "       [60, 79, 40, ..., 26, 66, 53],\n",
       "       ...,\n",
       "       [79, 81,  3, ..., 63, 43, 15],\n",
       "       [87,  6,  7, ..., 43, 50, 11],\n",
       "       [30, 84, 95, ..., 44, 43,  1]])"
      ]
     },
     "execution_count": 2,
     "metadata": {},
     "output_type": "execute_result"
    }
   ],
   "source": [
    "import numpy as np \n",
    "#list of 100 matrices of size 1k x 1k\n",
    "n=100\n",
    "#matrix_list = [np.random.rand(1000, 1000) for _ in range(n)]\n",
    "matrix_list = [np.random.randint(1,100,size=(1000,1000)) for _ in range(n)]\n",
    "matrix_list[0]\n"
   ]
  },
  {
   "cell_type": "code",
   "execution_count": 3,
   "metadata": {},
   "outputs": [
    {
     "data": {
      "text/plain": [
       "(1000, 1000)"
      ]
     },
     "execution_count": 3,
     "metadata": {},
     "output_type": "execute_result"
    }
   ],
   "source": [
    "len(matrix_list)\n",
    "matrix_list[0].shape"
   ]
  },
  {
   "cell_type": "code",
   "execution_count": 4,
   "metadata": {},
   "outputs": [
    {
     "data": {
      "text/plain": [
       "array([[70, 51, 41, ..., 47, 36, 25],\n",
       "       [90, 67, 61, ..., 16, 26, 22],\n",
       "       [31, 42, 78, ..., 73, 57, 91],\n",
       "       ...,\n",
       "       [72, 82, 31, ..., 57, 79, 68],\n",
       "       [25, 90, 23, ..., 91, 21, 30],\n",
       "       [92, 61, 89, ..., 61, 20, 41]])"
      ]
     },
     "execution_count": 4,
     "metadata": {},
     "output_type": "execute_result"
    }
   ],
   "source": [
    "#constant matrix of size 1k x 1k\n",
    "matrix_X = np.random.randint(1,100,size=(1000,1000))\n",
    "matrix_X"
   ]
  },
  {
   "cell_type": "code",
   "execution_count": 5,
   "metadata": {},
   "outputs": [
    {
     "name": "stdout",
     "output_type": "stream",
     "text": [
      "No. of Cores are : 8\n"
     ]
    }
   ],
   "source": [
    "print('No. of Cores are :',multiprocessing.cpu_count())"
   ]
  },
  {
   "cell_type": "code",
   "execution_count": 6,
   "metadata": {},
   "outputs": [
    {
     "name": "stdout",
     "output_type": "stream",
     "text": [
      "Total number of threads: 6\n"
     ]
    }
   ],
   "source": [
    "active_threads=threading.active_count()\n",
    "print('Total number of threads:',active_threads)\n"
   ]
  },
  {
   "cell_type": "code",
   "execution_count": 7,
   "metadata": {},
   "outputs": [],
   "source": [
    "#defining a function for multiplication task \n",
    "def multiply(x, y):\n",
    "    # start_time = time.time()\n",
    "    result_matrix = np.dot(x, y)\n",
    "    # end_time = time.time()\n",
    "    # execution_time = end_time - start_time"
   ]
  },
  {
   "cell_type": "markdown",
   "metadata": {},
   "source": [
    "For Thread_count=1"
   ]
  },
  {
   "cell_type": "code",
   "execution_count": 8,
   "metadata": {},
   "outputs": [
    {
     "name": "stdout",
     "output_type": "stream",
     "text": [
      "Total time taken: 177.27140259742737\n"
     ]
    }
   ],
   "source": [
    "start_time=time.time()\n",
    "for i in range(100):\n",
    "    t1=threading.Thread(target = multiply , args=(matrix_list[i],matrix_X))\n",
    "    t1.start()\n",
    "\n",
    "    while True:\n",
    "        if threading.active_count() == active_threads:\n",
    "            break\n",
    "        # else:\n",
    "            # print (\"Thread still running (left %d)...\"%(threading.activeCount() - active_threads))\n",
    "            # time.sleep(1)\n",
    "\n",
    "\n",
    "Total_time_taken_1 = time.time()-start_time\n",
    "print('Total time taken:',Total_time_taken_1)"
   ]
  },
  {
   "cell_type": "markdown",
   "metadata": {},
   "source": [
    "For Thread_count=2"
   ]
  },
  {
   "cell_type": "code",
   "execution_count": 9,
   "metadata": {},
   "outputs": [
    {
     "name": "stdout",
     "output_type": "stream",
     "text": [
      "Total time taken: 88.73741745948792\n"
     ]
    }
   ],
   "source": [
    "start_time=time.time()\n",
    "j=0\n",
    "#for i in range(100/2):\n",
    "for i in range(100//2):\n",
    "    t1=threading.Thread(target = multiply , args=(matrix_list[i],matrix_X))\n",
    "    t2=threading.Thread(target = multiply , args=(matrix_list[i+1],matrix_X))\n",
    "    j=j+2\n",
    "    t1.start()\n",
    "    t2.start()\n",
    "    \n",
    "\n",
    "    while True:\n",
    "        if threading.active_count() == active_threads:\n",
    "            break\n",
    "\n",
    "\n",
    "Total_time_taken_2 = time.time()-start_time\n",
    "print('Total time taken:',Total_time_taken_2)"
   ]
  },
  {
   "cell_type": "markdown",
   "metadata": {},
   "source": [
    "For Thread_count=3"
   ]
  },
  {
   "cell_type": "code",
   "execution_count": 10,
   "metadata": {},
   "outputs": [
    {
     "name": "stdout",
     "output_type": "stream",
     "text": [
      "Total time taken: 74.90358352661133\n"
     ]
    }
   ],
   "source": [
    "start_time=time.time()\n",
    "j=0\n",
    "for i in range(100//3):\n",
    "    t1=threading.Thread(target = multiply , args=(matrix_list[i],matrix_X))\n",
    "    t2=threading.Thread(target = multiply , args=(matrix_list[i+1],matrix_X))\n",
    "    t3=threading.Thread(target = multiply , args=(matrix_list[i+2],matrix_X))\n",
    "    j=j+3\n",
    "    t1.start()\n",
    "    t2.start()\n",
    "    t3.start()\n",
    "    \n",
    "\n",
    "    while True:\n",
    "        if threading.active_count() == active_threads:\n",
    "            break\n",
    "\n",
    "\n",
    "Total_time_taken_3 = time.time()-start_time\n",
    "print('Total time taken:',Total_time_taken_3)"
   ]
  },
  {
   "cell_type": "markdown",
   "metadata": {},
   "source": [
    "For Thread_count=4"
   ]
  },
  {
   "cell_type": "code",
   "execution_count": 11,
   "metadata": {},
   "outputs": [
    {
     "name": "stdout",
     "output_type": "stream",
     "text": [
      "Total time taken: 73.17705798149109\n"
     ]
    }
   ],
   "source": [
    "start_time=time.time()\n",
    "j=0\n",
    "for i in range(100//4):\n",
    "    t1=threading.Thread(target = multiply , args=(matrix_list[i],matrix_X))\n",
    "    t2=threading.Thread(target = multiply , args=(matrix_list[i+1],matrix_X))\n",
    "    t3=threading.Thread(target = multiply , args=(matrix_list[i+2],matrix_X))\n",
    "    t4=threading.Thread(target = multiply , args=(matrix_list[i+3],matrix_X))\n",
    "    j=j+4\n",
    "    t1.start()\n",
    "    t2.start()\n",
    "    t3.start()\n",
    "    t4.start()\n",
    "    \n",
    "\n",
    "    while True:\n",
    "        if threading.active_count() == active_threads:\n",
    "            break\n",
    "\n",
    "\n",
    "Total_time_taken_4 = time.time()-start_time\n",
    "print('Total time taken:',Total_time_taken_4)"
   ]
  },
  {
   "cell_type": "markdown",
   "metadata": {},
   "source": [
    "For Thread_count=5"
   ]
  },
  {
   "cell_type": "code",
   "execution_count": 12,
   "metadata": {},
   "outputs": [
    {
     "name": "stdout",
     "output_type": "stream",
     "text": [
      "Total time taken: 74.41551756858826\n"
     ]
    }
   ],
   "source": [
    "start_time=time.time()\n",
    "j=0\n",
    "for i in range(100//5):\n",
    "    t1=threading.Thread(target = multiply , args=(matrix_list[i],matrix_X))\n",
    "    t2=threading.Thread(target = multiply , args=(matrix_list[i+1],matrix_X))\n",
    "    t3=threading.Thread(target = multiply , args=(matrix_list[i+2],matrix_X))\n",
    "    t4=threading.Thread(target = multiply , args=(matrix_list[i+3],matrix_X))\n",
    "    t5=threading.Thread(target = multiply , args=(matrix_list[i+4],matrix_X))\n",
    "    j=j+5\n",
    "    t1.start()\n",
    "    t2.start()\n",
    "    t3.start()\n",
    "    t4.start()\n",
    "    t5.start()\n",
    "    \n",
    "\n",
    "    while True:\n",
    "        if threading.active_count() == active_threads:\n",
    "            break\n",
    "\n",
    "\n",
    "Total_time_taken_5 = time.time()-start_time\n",
    "print('Total time taken:',Total_time_taken_5)"
   ]
  },
  {
   "cell_type": "markdown",
   "metadata": {},
   "source": [
    "For Thread_count=6"
   ]
  },
  {
   "cell_type": "code",
   "execution_count": 13,
   "metadata": {},
   "outputs": [
    {
     "name": "stdout",
     "output_type": "stream",
     "text": [
      "Total time taken: 76.12848591804504\n"
     ]
    }
   ],
   "source": [
    "start_time=time.time()\n",
    "j=0\n",
    "for i in range(100//6):\n",
    "    t1=threading.Thread(target = multiply , args=(matrix_list[i],matrix_X))\n",
    "    t2=threading.Thread(target = multiply , args=(matrix_list[i+1],matrix_X))\n",
    "    t3=threading.Thread(target = multiply , args=(matrix_list[i+2],matrix_X))\n",
    "    t4=threading.Thread(target = multiply , args=(matrix_list[i+3],matrix_X))\n",
    "    t5=threading.Thread(target = multiply , args=(matrix_list[i+4],matrix_X))\n",
    "    t6=threading.Thread(target = multiply , args=(matrix_list[i+5],matrix_X))\n",
    "    j=j+6\n",
    "    t1.start()\n",
    "    t2.start()\n",
    "    t3.start()\n",
    "    t4.start()\n",
    "    t5.start()\n",
    "    t6.start()\n",
    "    \n",
    "\n",
    "    while True:\n",
    "        if threading.active_count() == active_threads:\n",
    "            break\n",
    "\n",
    "\n",
    "Total_time_taken_6 = time.time()-start_time\n",
    "print('Total time taken:',Total_time_taken_6)"
   ]
  },
  {
   "cell_type": "markdown",
   "metadata": {},
   "source": [
    "For Thread_count=7"
   ]
  },
  {
   "cell_type": "code",
   "execution_count": 14,
   "metadata": {},
   "outputs": [
    {
     "name": "stdout",
     "output_type": "stream",
     "text": [
      "Total time taken: 91.0588903427124\n"
     ]
    }
   ],
   "source": [
    "start_time=time.time()\n",
    "j=0\n",
    "for i in range(100//7):\n",
    "    t1=threading.Thread(target = multiply , args=(matrix_list[i],matrix_X))\n",
    "    t2=threading.Thread(target = multiply , args=(matrix_list[i+1],matrix_X))\n",
    "    t3=threading.Thread(target = multiply , args=(matrix_list[i+2],matrix_X))\n",
    "    t4=threading.Thread(target = multiply , args=(matrix_list[i+3],matrix_X))\n",
    "    t5=threading.Thread(target = multiply , args=(matrix_list[i+4],matrix_X))\n",
    "    t6=threading.Thread(target = multiply , args=(matrix_list[i+5],matrix_X))\n",
    "    t7=threading.Thread(target = multiply , args=(matrix_list[i+6],matrix_X))\n",
    "    j=j+7\n",
    "    t1.start()\n",
    "    t2.start()\n",
    "    t3.start()\n",
    "    t4.start()\n",
    "    t5.start()\n",
    "    t6.start()\n",
    "    t7.start()\n",
    "    \n",
    "\n",
    "    while True:\n",
    "        if threading.active_count() == active_threads:\n",
    "            break\n",
    "\n",
    "\n",
    "Total_time_taken_7 = time.time()-start_time\n",
    "print('Total time taken:',Total_time_taken_7)"
   ]
  },
  {
   "cell_type": "markdown",
   "metadata": {},
   "source": [
    "For Thread_count=8 (no. of cores)"
   ]
  },
  {
   "cell_type": "code",
   "execution_count": 15,
   "metadata": {},
   "outputs": [
    {
     "name": "stdout",
     "output_type": "stream",
     "text": [
      "Total time taken: 93.06901574134827\n"
     ]
    }
   ],
   "source": [
    "start_time=time.time()\n",
    "j=0\n",
    "for i in range(100//8):\n",
    "    t1=threading.Thread(target = multiply , args=(matrix_list[i],matrix_X))\n",
    "    t2=threading.Thread(target = multiply , args=(matrix_list[i+1],matrix_X))\n",
    "    t3=threading.Thread(target = multiply , args=(matrix_list[i+2],matrix_X))\n",
    "    t4=threading.Thread(target = multiply , args=(matrix_list[i+3],matrix_X))\n",
    "    t5=threading.Thread(target = multiply , args=(matrix_list[i+4],matrix_X))\n",
    "    t6=threading.Thread(target = multiply , args=(matrix_list[i+5],matrix_X))\n",
    "    t7=threading.Thread(target = multiply , args=(matrix_list[i+6],matrix_X))\n",
    "    t8=threading.Thread(target = multiply , args=(matrix_list[i+7],matrix_X))\n",
    "    j=j+8\n",
    "    t1.start()\n",
    "    t2.start()\n",
    "    t3.start()\n",
    "    t4.start()\n",
    "    t5.start()\n",
    "    t6.start()\n",
    "    t7.start()\n",
    "    t8.start()\n",
    "\n",
    "\n",
    "    while True:\n",
    "        if threading.active_count() == active_threads:\n",
    "            break\n",
    "\n",
    "\n",
    "Total_time_taken_8 = time.time()-start_time\n",
    "print('Total time taken:',Total_time_taken_8)"
   ]
  },
  {
   "cell_type": "markdown",
   "metadata": {},
   "source": [
    "For Thread_count = 2 * no. of cores = 16"
   ]
  },
  {
   "cell_type": "code",
   "execution_count": 16,
   "metadata": {},
   "outputs": [
    {
     "name": "stdout",
     "output_type": "stream",
     "text": [
      "Total time taken: 95.80780506134033\n"
     ]
    }
   ],
   "source": [
    "start_time=time.time()\n",
    "j=0\n",
    "for i in range(100//16):\n",
    "    t1=threading.Thread(target = multiply , args=(matrix_list[i],matrix_X))\n",
    "    t2=threading.Thread(target = multiply , args=(matrix_list[i+1],matrix_X))\n",
    "    t3=threading.Thread(target = multiply , args=(matrix_list[i+2],matrix_X))\n",
    "    t4=threading.Thread(target = multiply , args=(matrix_list[i+3],matrix_X))\n",
    "    t5=threading.Thread(target = multiply , args=(matrix_list[i+4],matrix_X))\n",
    "    t6=threading.Thread(target = multiply , args=(matrix_list[i+5],matrix_X))\n",
    "    t7=threading.Thread(target = multiply , args=(matrix_list[i+6],matrix_X))\n",
    "    t8=threading.Thread(target = multiply , args=(matrix_list[i+7],matrix_X))\n",
    "    t9=threading.Thread(target = multiply , args=(matrix_list[i+8],matrix_X))\n",
    "    t10=threading.Thread(target = multiply , args=(matrix_list[i+9],matrix_X))\n",
    "    t11=threading.Thread(target = multiply , args=(matrix_list[i+10],matrix_X))\n",
    "    t12=threading.Thread(target = multiply , args=(matrix_list[i+11],matrix_X))\n",
    "    t13=threading.Thread(target = multiply , args=(matrix_list[i+12],matrix_X))\n",
    "    t14=threading.Thread(target = multiply , args=(matrix_list[i+13],matrix_X))\n",
    "    t15=threading.Thread(target = multiply , args=(matrix_list[i+14],matrix_X))\n",
    "    t16=threading.Thread(target = multiply , args=(matrix_list[i+15],matrix_X))\n",
    "    j=j+16\n",
    "    t1.start()\n",
    "    t2.start()\n",
    "    t3.start()\n",
    "    t4.start()\n",
    "    t5.start()\n",
    "    t6.start()\n",
    "    t7.start()\n",
    "    t8.start()\n",
    "    t9.start()\n",
    "    t10.start()\n",
    "    t11.start()\n",
    "    t12.start()\n",
    "    t13.start()\n",
    "    t14.start()\n",
    "    t15.start()\n",
    "    t16.start()\n",
    "\n",
    "\n",
    "    while True:\n",
    "        if threading.active_count() == active_threads:\n",
    "            break\n",
    "\n",
    "\n",
    "Total_time_taken_16 = time.time()-start_time\n",
    "print('Total time taken:',Total_time_taken_16)"
   ]
  },
  {
   "cell_type": "code",
   "execution_count": null,
   "metadata": {},
   "outputs": [],
   "source": [
    "# total_time_taken = []\n",
    "# thread_count=[1,2,3,4,5,6,7,8,16]\n",
    "# for i in thread_count:\n",
    "#     total_time_taken.append(Total_time_taken_{i})"
   ]
  },
  {
   "cell_type": "code",
   "execution_count": 17,
   "metadata": {},
   "outputs": [
    {
     "name": "stdout",
     "output_type": "stream",
     "text": [
      "Total time taken: [177.27140259742737, 88.73741745948792, 74.90358352661133, 73.17705798149109, 74.41551756858826, 76.12848591804504, 91.0588903427124, 93.06901574134827, 95.80780506134033]\n"
     ]
    }
   ],
   "source": [
    "total_time_taken = []\n",
    "thread_count = [1, 2, 3, 4, 5, 6, 7, 8, 16]\n",
    "\n",
    "for count in thread_count:\n",
    "    variable_name = \"Total_time_taken_\" + str(count)\n",
    "    # Assuming Total_time_taken_1, Total_time_taken_2, etc., are defined variables\n",
    "    total_time_taken.append(globals()[variable_name])\n",
    "\n",
    "print(\"Total time taken:\", total_time_taken)\n"
   ]
  },
  {
   "cell_type": "code",
   "execution_count": 18,
   "metadata": {},
   "outputs": [
    {
     "data": {
      "text/html": [
       "<div>\n",
       "<style scoped>\n",
       "    .dataframe tbody tr th:only-of-type {\n",
       "        vertical-align: middle;\n",
       "    }\n",
       "\n",
       "    .dataframe tbody tr th {\n",
       "        vertical-align: top;\n",
       "    }\n",
       "\n",
       "    .dataframe thead th {\n",
       "        text-align: right;\n",
       "    }\n",
       "</style>\n",
       "<table border=\"1\" class=\"dataframe\">\n",
       "  <thead>\n",
       "    <tr style=\"text-align: right;\">\n",
       "      <th></th>\n",
       "      <th>Threads</th>\n",
       "      <th>Total Time Taken</th>\n",
       "    </tr>\n",
       "  </thead>\n",
       "  <tbody>\n",
       "    <tr>\n",
       "      <th>0</th>\n",
       "      <td>1</td>\n",
       "      <td>177.271403</td>\n",
       "    </tr>\n",
       "    <tr>\n",
       "      <th>1</th>\n",
       "      <td>2</td>\n",
       "      <td>88.737417</td>\n",
       "    </tr>\n",
       "    <tr>\n",
       "      <th>2</th>\n",
       "      <td>3</td>\n",
       "      <td>74.903584</td>\n",
       "    </tr>\n",
       "    <tr>\n",
       "      <th>3</th>\n",
       "      <td>4</td>\n",
       "      <td>73.177058</td>\n",
       "    </tr>\n",
       "    <tr>\n",
       "      <th>4</th>\n",
       "      <td>5</td>\n",
       "      <td>74.415518</td>\n",
       "    </tr>\n",
       "    <tr>\n",
       "      <th>5</th>\n",
       "      <td>6</td>\n",
       "      <td>76.128486</td>\n",
       "    </tr>\n",
       "    <tr>\n",
       "      <th>6</th>\n",
       "      <td>7</td>\n",
       "      <td>91.058890</td>\n",
       "    </tr>\n",
       "    <tr>\n",
       "      <th>7</th>\n",
       "      <td>8</td>\n",
       "      <td>93.069016</td>\n",
       "    </tr>\n",
       "    <tr>\n",
       "      <th>8</th>\n",
       "      <td>16</td>\n",
       "      <td>95.807805</td>\n",
       "    </tr>\n",
       "  </tbody>\n",
       "</table>\n",
       "</div>"
      ],
      "text/plain": [
       "   Threads  Total Time Taken\n",
       "0        1        177.271403\n",
       "1        2         88.737417\n",
       "2        3         74.903584\n",
       "3        4         73.177058\n",
       "4        5         74.415518\n",
       "5        6         76.128486\n",
       "6        7         91.058890\n",
       "7        8         93.069016\n",
       "8       16         95.807805"
      ]
     },
     "execution_count": 18,
     "metadata": {},
     "output_type": "execute_result"
    }
   ],
   "source": [
    "import pandas as pd \n",
    "df= pd.DataFrame({'Threads': thread_count,\n",
    "                'Total Time Taken':total_time_taken})\n",
    "df"
   ]
  },
  {
   "cell_type": "code",
   "execution_count": 19,
   "metadata": {},
   "outputs": [
    {
     "data": {
      "image/png": "[encoded data removed]",
      "text/plain": [
       "<Figure size 640x480 with 1 Axes>"
      ]
     },
     "metadata": {},
     "output_type": "display_data"
    }
   ],
   "source": [
    "import matplotlib.pyplot as plt \n",
    "plt.plot(df['Threads'], df['Total Time Taken'], marker='o', linestyle='-')\n",
    "\n",
    "# Adding labels and title\n",
    "plt.xlabel('Number of Threads')\n",
    "plt.ylabel('Total Time Taken')\n",
    "plt.title('Total Time Taken vs Thread Count')\n",
    "\n",
    "# Display the plot\n",
    "plt.show()"
   ]
  }
 ],
 "metadata": {
  "kernelspec": {
   "display_name": "Python 3",
   "language": "python",
   "name": "python3"
  },
  "language_info": {
   "codemirror_mode": {
    "name": "ipython",
    "version": 3
   },
   "file_extension": ".py",
   "mimetype": "text/x-python",
   "name": "python",
   "nbconvert_exporter": "python",
   "pygments_lexer": "ipython3",
   "version": "3.11.3"
  }
 },
 "nbformat": 4,
 "nbformat_minor": 2
}
